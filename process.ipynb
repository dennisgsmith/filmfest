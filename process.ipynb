{
 "metadata": {
  "language_info": {
   "codemirror_mode": {
    "name": "ipython",
    "version": 3
   },
   "file_extension": ".py",
   "mimetype": "text/x-python",
   "name": "python",
   "nbconvert_exporter": "python",
   "pygments_lexer": "ipython3",
   "version": "3.9.0-final"
  },
  "orig_nbformat": 2,
  "kernelspec": {
   "name": "python3",
   "display_name": "Python 3.9.0 64-bit ('filmfest')",
   "metadata": {
    "interpreter": {
     "hash": "09b72d6d2bfa10d88056e8a39015d053c1d2e9fa4a35b710eaf3f4786f328a74"
    }
   }
  }
 },
 "nbformat": 4,
 "nbformat_minor": 2,
 "cells": [
  {
   "cell_type": "code",
   "execution_count": 35,
   "metadata": {},
   "outputs": [],
   "source": [
    "import matplotlib\n",
    "import matplotlib.pyplot as plt\n",
    "import pandas as pd\n",
    "import numpy as np\n",
    "from collections import Counter"
   ]
  },
  {
   "cell_type": "code",
   "execution_count": 36,
   "metadata": {},
   "outputs": [],
   "source": [
    "subs_df = pd.read_csv(\"data/filmfreeway-submissions.csv\")"
   ]
  },
  {
   "cell_type": "code",
   "execution_count": 37,
   "metadata": {},
   "outputs": [
    {
     "output_type": "stream",
     "name": "stdout",
     "text": [
      "<class 'pandas.core.frame.DataFrame'>\nRangeIndex: 103 entries, 0 to 102\nData columns (total 16 columns):\n #   Column                 Non-Null Count  Dtype  \n---  ------                 --------------  -----  \n 0   Project Title          103 non-null    object \n 1   Duration               103 non-null    object \n 2   Genres                 42 non-null     object \n 3   First Name             103 non-null    object \n 4   Last Name              103 non-null    object \n 5   Email                  103 non-null    object \n 6   City                   67 non-null     object \n 7   State                  65 non-null     object \n 8   Country                67 non-null     object \n 9   Submission Date        103 non-null    object \n 10  Submission Status      103 non-null    object \n 11  Submission Categories  103 non-null    object \n 12  Rating                 0 non-null      float64\n 13  Submission ID          103 non-null    int64  \n 14  Birthdate              83 non-null     object \n 15  Gender                 90 non-null     object \ndtypes: float64(1), int64(1), object(14)\nmemory usage: 13.0+ KB\n103 rows & 16 columns.\n"
     ]
    }
   ],
   "source": [
    "subs_df.info()\n",
    "rows, cols = subs_df.shape\n",
    "print(f'{rows} rows & {cols} columns.')"
   ]
  },
  {
   "cell_type": "code",
   "execution_count": 38,
   "metadata": {},
   "outputs": [
    {
     "output_type": "stream",
     "name": "stdout",
     "text": [
      "{'Withdrawn', 'Incomplete', 'In Consideration'}\n"
     ]
    }
   ],
   "source": [
    "print(set(x for x in subs_df['Submission Status']))"
   ]
  },
  {
   "source": [
    "## CLEAN DATA\n",
    "Note: Should \"Incomlete\" entries be dropped?"
   ],
   "cell_type": "markdown",
   "metadata": {}
  },
  {
   "cell_type": "code",
   "execution_count": 39,
   "metadata": {},
   "outputs": [],
   "source": [
    "# Drop withdrawn entries\n",
    "subs_df = subs_df[subs_df['Submission Status'] != 'Withdrawn']\n",
    "\n",
    "# duplicate_entries = subs_df[subs_df['Project Title'].duplicated()==True]"
   ]
  },
  {
   "cell_type": "code",
   "execution_count": 40,
   "metadata": {},
   "outputs": [],
   "source": [
    "# Replace column to shorten: Feel Good Shorts\n",
    "subs_df['Submission Categories'] = subs_df['Submission Categories'].apply( \\\n",
    "        lambda x: x.replace('Short films that make you feel good.', 'Feel Good Shorts'))"
   ]
  },
  {
   "cell_type": "code",
   "execution_count": 41,
   "metadata": {},
   "outputs": [],
   "source": [
    "# 'Youth Short Films, Short Documentary' force to 'Short Documentary'\n",
    "subs_df['Submission Categories'] = subs_df['Submission Categories'].apply( \\\n",
    "        lambda x: x.replace('Youth Short Films, Short Documentary', 'Short Documentary'))"
   ]
  },
  {
   "cell_type": "code",
   "execution_count": 42,
   "metadata": {},
   "outputs": [],
   "source": [
    "# drop rating, genres cols due to all missing data\n",
    "subs_df.drop(columns=['Rating', 'Genres'], inplace=True)"
   ]
  },
  {
   "cell_type": "code",
   "execution_count": 46,
   "metadata": {},
   "outputs": [],
   "source": [
    "# fill na with empty str to allow apply method\n",
    "subs_df['State'].fillna('', inplace=True)"
   ]
  },
  {
   "source": [
    "## EDA"
   ],
   "cell_type": "markdown",
   "metadata": {}
  },
  {
   "cell_type": "code",
   "execution_count": 43,
   "metadata": {},
   "outputs": [
    {
     "output_type": "execute_result",
     "data": {
      "text/plain": [
       "Index(['Project Title', 'Duration', 'First Name', 'Last Name', 'Email', 'City',\n",
       "       'State', 'Country', 'Submission Date', 'Submission Status',\n",
       "       'Submission Categories', 'Submission ID', 'Birthdate', 'Gender'],\n",
       "      dtype='object')"
      ]
     },
     "metadata": {},
     "execution_count": 43
    }
   ],
   "source": [
    "subs_df.columns"
   ]
  },
  {
   "cell_type": "code",
   "execution_count": 44,
   "metadata": {},
   "outputs": [
    {
     "output_type": "stream",
     "name": "stdout",
     "text": [
      "Counter({'Male': 59, 'Female': 26, nan: 13, 'Other': 2})\n"
     ]
    }
   ],
   "source": [
    "gender_count = Counter(subs_df.Gender)\n",
    "print(gender_count)"
   ]
  },
  {
   "cell_type": "code",
   "execution_count": 47,
   "metadata": {},
   "outputs": [],
   "source": [
    "# replace to unify state names\n",
    "subs_df['State'] = subs_df['State'].apply(\n",
    "    lambda x: x.replace('maryland', 'MD')\n",
    "               .replace('Maryland', 'MD')\n",
    "               .replace('Virginia', 'VA')\n",
    "               .replace('Georgia', 'GA')\n",
    "               .replace('Pennsylvania', 'PA')\n",
    "               .replace('Florida', 'FL')\n",
    "               .replace('New York', 'NY')\n",
    "               .replace('ny', 'NY')\n",
    ")"
   ]
  },
  {
   "cell_type": "code",
   "execution_count": 67,
   "metadata": {},
   "outputs": [
    {
     "output_type": "stream",
     "name": "stdout",
     "text": [
      "US COUNT:\n[('VA', 9), ('MD', 20), ('CA', 3), ('GA', 1), ('DE', 1), ('NY', 3), ('WI', 1), ('PA', 3), ('DC', 1), ('FL', 2), ('NJ', 1), ('HI', 1), ('IL', 1), ('TX', 1), ('LA', 1), ('NC', 1), ('MA', 1), ('OH', 1)]\n\nINTERNATIONAL COUNT\n[('Cornwall and Isles of Scilly', 1), ('Binh Thuan', 1), ('Valladolid', 1), ('Málaga', 1), ('Ontario', 1), ('London', 1), ('kurdestan', 1), ('Luristan', 1), ('fars', 1), ('Rio Grande do Sul', 1), ('Maharashtra', 1), ('Buenos Aires', 1)]\n\nUNKNOWN COUNT\n[('', 36)]\n"
     ]
    }
   ],
   "source": [
    "state_count = Counter(subs_df.State)\n",
    "us_state_count = [state for state in state_count.items() if len(state[0]) == 2]\n",
    "international_count = [state for state in state_count.items() if len(state[0]) != 2 and state[0] != '']\n",
    "unknown_loc_count = [state for state in state_count.items() if state[0] == '']\n",
    "print('US COUNT:')\n",
    "print(us_state_count)\n",
    "print('\\nINTERNATIONAL COUNT')\n",
    "print(international_count)\n",
    "print('\\nUNKNOWN COUNT')\n",
    "print(unknown_loc_count)"
   ]
  },
  {
   "cell_type": "code",
   "execution_count": null,
   "metadata": {},
   "outputs": [],
   "source": []
  }
 ]
}