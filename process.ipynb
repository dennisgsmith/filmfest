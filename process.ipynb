{
 "metadata": {
  "language_info": {
   "codemirror_mode": {
    "name": "ipython",
    "version": 3
   },
   "file_extension": ".py",
   "mimetype": "text/x-python",
   "name": "python",
   "nbconvert_exporter": "python",
   "pygments_lexer": "ipython3",
   "version": "3.9.0-final"
  },
  "orig_nbformat": 2,
  "kernelspec": {
   "name": "python3",
   "display_name": "Python 3.9.0 64-bit ('filmfest')",
   "metadata": {
    "interpreter": {
     "hash": "09b72d6d2bfa10d88056e8a39015d053c1d2e9fa4a35b710eaf3f4786f328a74"
    }
   }
  }
 },
 "nbformat": 4,
 "nbformat_minor": 2,
 "cells": [
  {
   "source": [
    "# PROCESS SUBMISSIONS CSV\n",
    "The purpose of this script is to get metrics on all submissions and the subset of chosen submissions. This subset will be used for further analysis of submitted films. All data is extracted from local flat files."
   ],
   "cell_type": "markdown",
   "metadata": {}
  },
  {
   "cell_type": "code",
   "execution_count": 1,
   "metadata": {},
   "outputs": [],
   "source": [
    "import matplotlib\n",
    "import matplotlib.pyplot as plt\n",
    "import pandas as pd\n",
    "import numpy as np\n",
    "from collections import Counter\n",
    "import datetime as dt"
   ]
  },
  {
   "cell_type": "code",
   "execution_count": 2,
   "metadata": {},
   "outputs": [],
   "source": [
    "subs_df = pd.read_csv(\"data/filmfreeway-submissions.csv\")"
   ]
  },
  {
   "cell_type": "code",
   "execution_count": 3,
   "metadata": {},
   "outputs": [
    {
     "output_type": "stream",
     "name": "stdout",
     "text": [
      "<class 'pandas.core.frame.DataFrame'>\nRangeIndex: 103 entries, 0 to 102\nData columns (total 21 columns):\n #   Column                 Non-Null Count  Dtype  \n---  ------                 --------------  -----  \n 0   Project Title          103 non-null    object \n 1   Duration               103 non-null    object \n 2   Genres                 40 non-null     object \n 3   First Name             103 non-null    object \n 4   Last Name              103 non-null    object \n 5   Email                  103 non-null    object \n 6   City                   67 non-null     object \n 7   State                  65 non-null     object \n 8   Country                67 non-null     object \n 9   Submission Date        103 non-null    object \n 10  Submission Status      103 non-null    object \n 11  Submission Categories  103 non-null    object \n 12  Rating                 0 non-null      float64\n 13  Submission ID          103 non-null    int64  \n 14  Birthdate              83 non-null     object \n 15  Gender                 90 non-null     object \n 16  Judging Status         103 non-null    object \n 17  Submission Link        103 non-null    object \n 18  Directors              101 non-null    object \n 19  Writers                85 non-null     object \n 20  Producers              83 non-null     object \ndtypes: float64(1), int64(1), object(19)\nmemory usage: 17.0+ KB\n103 rows & 21 columns.\n"
     ]
    }
   ],
   "source": [
    "subs_df.info()\n",
    "print(f'{subs_df.shape[0]} rows & {subs_df.shape[1]} columns.')"
   ]
  },
  {
   "cell_type": "code",
   "execution_count": 4,
   "metadata": {},
   "outputs": [
    {
     "output_type": "execute_result",
     "data": {
      "text/plain": [
       "Project Title              0\n",
       "Duration                   0\n",
       "Genres                    63\n",
       "First Name                 0\n",
       "Last Name                  0\n",
       "Email                      0\n",
       "City                      36\n",
       "State                     38\n",
       "Country                   36\n",
       "Submission Date            0\n",
       "Submission Status          0\n",
       "Submission Categories      0\n",
       "Rating                   103\n",
       "Submission ID              0\n",
       "Birthdate                 20\n",
       "Gender                    13\n",
       "Judging Status             0\n",
       "Submission Link            0\n",
       "Directors                  2\n",
       "Writers                   18\n",
       "Producers                 20\n",
       "dtype: int64"
      ]
     },
     "metadata": {},
     "execution_count": 4
    }
   ],
   "source": [
    "subs_df.isnull().sum()"
   ]
  },
  {
   "cell_type": "code",
   "execution_count": null,
   "metadata": {},
   "outputs": [],
   "source": [
    "print(set(x for x in subs_df['Submission Status']))"
   ]
  },
  {
   "source": [
    "## CLEAN DATA\n",
    "Note: Should \"Incomlete\" entries be dropped?"
   ],
   "cell_type": "markdown",
   "metadata": {}
  },
  {
   "cell_type": "code",
   "execution_count": 5,
   "metadata": {},
   "outputs": [],
   "source": [
    "# Drop withdrawn entries\n",
    "subs_df = subs_df[subs_df['Submission Status'] != 'Withdrawn']"
   ]
  },
  {
   "cell_type": "code",
   "execution_count": 6,
   "metadata": {},
   "outputs": [],
   "source": [
    "# Replace column to shorten: Feel Good Shorts\n",
    "subs_df['Submission Categories'] = subs_df['Submission Categories'].apply( \\\n",
    "        lambda x: x.replace('Short films that make you feel good.', 'Feel Good Shorts'))"
   ]
  },
  {
   "cell_type": "code",
   "execution_count": 7,
   "metadata": {},
   "outputs": [],
   "source": [
    "# 'Youth Short Films, Short Documentary' force to 'Short Documentary'\n",
    "subs_df['Submission Categories'] = subs_df['Submission Categories'].apply( \\\n",
    "        lambda x: x.replace('Youth Short Films, Short Documentary', 'Short Documentary'))"
   ]
  },
  {
   "cell_type": "code",
   "execution_count": 8,
   "metadata": {},
   "outputs": [],
   "source": [
    "# drop rating, genres cols due to all missing data\n",
    "subs_df.drop(columns=['Rating', 'Genres'], inplace=True)"
   ]
  },
  {
   "cell_type": "code",
   "execution_count": 9,
   "metadata": {},
   "outputs": [],
   "source": [
    "# fill na with empty str to allow apply method\n",
    "subs_df['State'].fillna('', inplace=True)"
   ]
  },
  {
   "cell_type": "code",
   "execution_count": 10,
   "metadata": {},
   "outputs": [],
   "source": [
    "# replace to unify state names\n",
    "subs_df['State'] = subs_df['State'].apply(\n",
    "    lambda x: x.replace('maryland', 'MD')\n",
    "               .replace('Maryland', 'MD')\n",
    "               .replace('Virginia', 'VA')\n",
    "               .replace('Georgia', 'GA')\n",
    "               .replace('Pennsylvania', 'PA')\n",
    "               .replace('Florida', 'FL')\n",
    "               .replace('New York', 'NY')\n",
    "               .replace('ny', 'NY')\n",
    ")"
   ]
  },
  {
   "source": [
    "## Subset Selected Entries"
   ],
   "cell_type": "markdown",
   "metadata": {}
  },
  {
   "cell_type": "code",
   "execution_count": 11,
   "metadata": {},
   "outputs": [
    {
     "output_type": "stream",
     "name": "stdout",
     "text": [
      "Acceptance Rate: 0.72, (72 / 100)\n"
     ]
    }
   ],
   "source": [
    "selected_df = subs_df[subs_df['Judging Status']=='Selected']\n",
    "print(f'Acceptance Rate: {len(selected_df) / len(subs_df)}, ({len(selected_df)} / {len(subs_df)})')"
   ]
  },
  {
   "source": [
    "## EDA"
   ],
   "cell_type": "markdown",
   "metadata": {}
  },
  {
   "cell_type": "code",
   "execution_count": null,
   "metadata": {},
   "outputs": [],
   "source": [
    "selected_df.columns"
   ]
  },
  {
   "cell_type": "code",
   "execution_count": null,
   "metadata": {},
   "outputs": [],
   "source": [
    "selected_gender_count = Counter(selected_df.Gender)\n",
    "print(f'Gender Count: {selected_gender_count}', '\\n')"
   ]
  },
  {
   "cell_type": "code",
   "execution_count": null,
   "metadata": {},
   "outputs": [],
   "source": [
    "state_count = Counter(selected_df.State)\n",
    "us_state_count = [state for state in state_count.items() if len(state[0]) == 2]\n",
    "international_count = [state for state in state_count.items() if len(state[0]) != 2 and state[0] != '']\n",
    "unknown_loc_count = [state for state in state_count.items() if state[0] == '']\n",
    "print('US COUNT:')\n",
    "print(us_state_count)\n",
    "print('\\nINTERNATIONAL COUNT')\n",
    "print(international_count)\n",
    "print('\\nUNKNOWN COUNT')\n",
    "print(unknown_loc_count)"
   ]
  },
  {
   "cell_type": "code",
   "execution_count": null,
   "metadata": {},
   "outputs": [],
   "source": [
    "def make_bar(y_pos, n, labels, xlabel, filename):\n",
    "        plt.rcdefaults()\n",
    "        fig, ax = plt.subplots()\n",
    "        _ = ax.barh(y_pos, n, align='center')\n",
    "        _ = ax.set_yticks(y_pos)\n",
    "        _ = ax.set_yticklabels(labels)\n",
    "        _ = ax.invert_yaxis()\n",
    "        _ = ax.set_xlabel(str(xlabel))\n",
    "        _ = ax.set_title(str(filename))\n",
    "        _ = plt.tight_layout()\n",
    "        # plt.savefig(DATA_FOLDER / f'{filename}.png')\n",
    "        plt.show()"
   ]
  },
  {
   "cell_type": "code",
   "execution_count": null,
   "metadata": {},
   "outputs": [],
   "source": [
    "def make_pie(ratios, labels, filename):\n",
    "        fig1, ax = plt.subplots()\n",
    "        _ = ax.pie(ratios, labels=labels, autopct='%1.1f%%', shadow=False, normalize=True)\n",
    "        _ = ax.set_title(str(filename))\n",
    "        _ = ax.axis('equal') # make sure pie is circle\n",
    "        # plt.savefig(DATA_FOLDER / '{filename}.png', bbox_inches='tight')\n",
    "        plt.show()"
   ]
  },
  {
   "source": [
    "### PLOT ALL SUBMISSIONS PER CATEGORY"
   ],
   "cell_type": "markdown",
   "metadata": {}
  },
  {
   "cell_type": "code",
   "execution_count": null,
   "metadata": {},
   "outputs": [],
   "source": [
    "subs_per_cat = dict(Counter(selected_df['Submission Categories']))\n",
    "sorted_cat = sorted(subs_per_cat.items(), key=lambda x: x[1])\n",
    "total_selected = len(selected_df['Project Title'])\n",
    "labels = [k for k, v in sorted_cat]\n",
    "number_of_entries = [v for k, v in sorted_cat]\n",
    "ratios = [(v / total_selected) for k, v in sorted_cat]\n",
    "\n",
    "make_bar(\n",
    "        y_pos=np.arange(len(labels)), n=number_of_entries,\n",
    "        labels=labels, xlabel='Number of Sumbissions', filename='EntriesPerCat_BAR'\n",
    "         )\n",
    "\n",
    "make_pie(\n",
    "        ratios=ratios, labels=labels, filename='EntriesPerCat_PIE'\n",
    "        )"
   ]
  },
  {
   "source": [
    "### DURATION METRICS"
   ],
   "cell_type": "markdown",
   "metadata": {}
  },
  {
   "cell_type": "code",
   "execution_count": 12,
   "metadata": {},
   "outputs": [],
   "source": [
    "# Convert Duration column to timedelta datatype\n",
    "selected_df.Duration = pd.to_timedelta(selected_df.Duration)"
   ]
  },
  {
   "cell_type": "code",
   "execution_count": 40,
   "metadata": {},
   "outputs": [
    {
     "output_type": "execute_result",
     "data": {
      "text/plain": [
       "    Submission Categories        Duration\n",
       "1         Dramatic Shorts 0 days 00:17:45\n",
       "2         Dramatic Shorts 0 days 00:00:00\n",
       "3           Feature Films 0 days 01:22:00\n",
       "6       Youth Short Films 0 days 00:09:59\n",
       "7       Short Documentary 0 days 00:12:03\n",
       "..                    ...             ...\n",
       "97          Horror/Sci-fi 0 days 00:11:09\n",
       "98          Feature Films 0 days 00:24:42\n",
       "99        Dramatic Shorts 0 days 00:13:00\n",
       "101          Funny Shorts 0 days 00:15:00\n",
       "102         Feature Films 0 days 00:51:05\n",
       "\n",
       "[72 rows x 2 columns]"
      ],
      "text/html": "<div>\n<style scoped>\n    .dataframe tbody tr th:only-of-type {\n        vertical-align: middle;\n    }\n\n    .dataframe tbody tr th {\n        vertical-align: top;\n    }\n\n    .dataframe thead th {\n        text-align: right;\n    }\n</style>\n<table border=\"1\" class=\"dataframe\">\n  <thead>\n    <tr style=\"text-align: right;\">\n      <th></th>\n      <th>Submission Categories</th>\n      <th>Duration</th>\n    </tr>\n  </thead>\n  <tbody>\n    <tr>\n      <th>1</th>\n      <td>Dramatic Shorts</td>\n      <td>0 days 00:17:45</td>\n    </tr>\n    <tr>\n      <th>2</th>\n      <td>Dramatic Shorts</td>\n      <td>0 days 00:00:00</td>\n    </tr>\n    <tr>\n      <th>3</th>\n      <td>Feature Films</td>\n      <td>0 days 01:22:00</td>\n    </tr>\n    <tr>\n      <th>6</th>\n      <td>Youth Short Films</td>\n      <td>0 days 00:09:59</td>\n    </tr>\n    <tr>\n      <th>7</th>\n      <td>Short Documentary</td>\n      <td>0 days 00:12:03</td>\n    </tr>\n    <tr>\n      <th>...</th>\n      <td>...</td>\n      <td>...</td>\n    </tr>\n    <tr>\n      <th>97</th>\n      <td>Horror/Sci-fi</td>\n      <td>0 days 00:11:09</td>\n    </tr>\n    <tr>\n      <th>98</th>\n      <td>Feature Films</td>\n      <td>0 days 00:24:42</td>\n    </tr>\n    <tr>\n      <th>99</th>\n      <td>Dramatic Shorts</td>\n      <td>0 days 00:13:00</td>\n    </tr>\n    <tr>\n      <th>101</th>\n      <td>Funny Shorts</td>\n      <td>0 days 00:15:00</td>\n    </tr>\n    <tr>\n      <th>102</th>\n      <td>Feature Films</td>\n      <td>0 days 00:51:05</td>\n    </tr>\n  </tbody>\n</table>\n<p>72 rows × 2 columns</p>\n</div>"
     },
     "metadata": {},
     "execution_count": 40
    }
   ],
   "source": [
    "selected_duration = selected_df.loc[:, ('Submission Categories', 'Duration')]\n",
    "selected_duration"
   ]
  },
  {
   "cell_type": "code",
   "execution_count": 31,
   "metadata": {},
   "outputs": [
    {
     "output_type": "stream",
     "name": "stdout",
     "text": [
      "Total Duration of Films Selected: 0 days 20:38:31\n"
     ]
    }
   ],
   "source": [
    "# Get Duration sum per category\n",
    "total_duration = selected_df.Duration.sum()\n",
    "print(f'Total Duration of Films Selected: {total_duration}')"
   ]
  },
  {
   "cell_type": "code",
   "execution_count": 41,
   "metadata": {},
   "outputs": [
    {
     "output_type": "execute_result",
     "data": {
      "text/plain": [
       "                                     Duration  count\n",
       "Submission Categories                               \n",
       "Animation                     0 days 00:50:32     11\n",
       "Dramatic Shorts               0 days 02:02:50     10\n",
       "Environmental & Aquatic Films 0 days 00:30:32      4\n",
       "Feature Films                 0 days 09:22:04      9\n",
       "Feel Good Shorts              0 days 00:55:04      5\n",
       "Funny Shorts                  0 days 01:11:28      6\n",
       "Horror/Sci-fi                 0 days 02:01:31     11\n",
       "Short Documentary             0 days 03:09:52     11\n",
       "Social Commentary Shorts      0 days 00:09:32      1\n",
       "Youth Short Films             0 days 00:25:06      4"
      ],
      "text/html": "<div>\n<style scoped>\n    .dataframe tbody tr th:only-of-type {\n        vertical-align: middle;\n    }\n\n    .dataframe tbody tr th {\n        vertical-align: top;\n    }\n\n    .dataframe thead th {\n        text-align: right;\n    }\n</style>\n<table border=\"1\" class=\"dataframe\">\n  <thead>\n    <tr style=\"text-align: right;\">\n      <th></th>\n      <th>Duration</th>\n      <th>count</th>\n    </tr>\n    <tr>\n      <th>Submission Categories</th>\n      <th></th>\n      <th></th>\n    </tr>\n  </thead>\n  <tbody>\n    <tr>\n      <th>Animation</th>\n      <td>0 days 00:50:32</td>\n      <td>11</td>\n    </tr>\n    <tr>\n      <th>Dramatic Shorts</th>\n      <td>0 days 02:02:50</td>\n      <td>10</td>\n    </tr>\n    <tr>\n      <th>Environmental &amp; Aquatic Films</th>\n      <td>0 days 00:30:32</td>\n      <td>4</td>\n    </tr>\n    <tr>\n      <th>Feature Films</th>\n      <td>0 days 09:22:04</td>\n      <td>9</td>\n    </tr>\n    <tr>\n      <th>Feel Good Shorts</th>\n      <td>0 days 00:55:04</td>\n      <td>5</td>\n    </tr>\n    <tr>\n      <th>Funny Shorts</th>\n      <td>0 days 01:11:28</td>\n      <td>6</td>\n    </tr>\n    <tr>\n      <th>Horror/Sci-fi</th>\n      <td>0 days 02:01:31</td>\n      <td>11</td>\n    </tr>\n    <tr>\n      <th>Short Documentary</th>\n      <td>0 days 03:09:52</td>\n      <td>11</td>\n    </tr>\n    <tr>\n      <th>Social Commentary Shorts</th>\n      <td>0 days 00:09:32</td>\n      <td>1</td>\n    </tr>\n    <tr>\n      <th>Youth Short Films</th>\n      <td>0 days 00:25:06</td>\n      <td>4</td>\n    </tr>\n  </tbody>\n</table>\n</div>"
     },
     "metadata": {},
     "execution_count": 41
    }
   ],
   "source": [
    "duration_per_cat = selected_duration.groupby('Submission Categories').sum()\n",
    "duration_per_cat['count'] = selected_duration.groupby('Submission Categories').count()\n",
    "duration_per_cat"
   ]
  },
  {
   "cell_type": "code",
   "execution_count": null,
   "metadata": {},
   "outputs": [],
   "source": [
    "mean_duration = {}\n",
    "for pair, v in selected_duration.items():\n",
    "    cat, stat = pair\n",
    "    if stat == 'mean':\n",
    "        hours, remainder = divmod(v, 3600)\n",
    "        minutes, seconds = divmod(remainder, 60)\n",
    "        mean_duration[cat] = '{:02}:{:02}:{:02}'.format(int(hours), int(minutes), int(seconds))\n",
    "\n",
    "print(mean_duration)"
   ]
  },
  {
   "cell_type": "code",
   "execution_count": null,
   "metadata": {},
   "outputs": [],
   "source": []
  },
  {
   "cell_type": "code",
   "execution_count": null,
   "metadata": {},
   "outputs": [],
   "source": []
  }
 ]
}