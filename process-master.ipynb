{
 "metadata": {
  "language_info": {
   "codemirror_mode": {
    "name": "ipython",
    "version": 3
   },
   "file_extension": ".py",
   "mimetype": "text/x-python",
   "name": "python",
   "nbconvert_exporter": "python",
   "pygments_lexer": "ipython3",
   "version": "3.9.0-final"
  },
  "orig_nbformat": 2,
  "kernelspec": {
   "name": "python3",
   "display_name": "Python 3.9.0 64-bit ('filmfest': venv)",
   "metadata": {
    "interpreter": {
     "hash": "09b72d6d2bfa10d88056e8a39015d053c1d2e9fa4a35b710eaf3f4786f328a74"
    }
   }
  }
 },
 "nbformat": 4,
 "nbformat_minor": 2,
 "cells": [
  {
   "cell_type": "code",
   "execution_count": 20,
   "metadata": {},
   "outputs": [],
   "source": [
    "import pandas as pd\n",
    "import numpy as np\n",
    "import math"
   ]
  },
  {
   "cell_type": "code",
   "execution_count": 21,
   "metadata": {},
   "outputs": [],
   "source": [
    "master_df = pd.read_excel('data/OCFF-2021_Master-List_01-04-21.xlsx', sheet_name=1, engine='openpyxl')"
   ]
  },
  {
   "cell_type": "code",
   "execution_count": 22,
   "metadata": {},
   "outputs": [],
   "source": [
    "master_df['Duration'] = pd.to_timedelta(master_df['Duration'])"
   ]
  },
  {
   "cell_type": "code",
   "execution_count": 23,
   "metadata": {},
   "outputs": [],
   "source": [
    "master_df['Duration (Min)'] = round((master_df['Duration'] / np.timedelta64(1, 'm')), ndigits=2)"
   ]
  },
  {
   "cell_type": "code",
   "execution_count": 29,
   "metadata": {},
   "outputs": [
    {
     "output_type": "stream",
     "name": "stdout",
     "text": [
      "Under 3 mins: 5 * 0 = $0\nOver 3 mins and under 30 mins: 59 * $5 = $195\nOver 30 mins: 8 (+ 6) * $25: $100\n"
     ]
    }
   ],
   "source": [
    "blocks = {'Free': 0, 'Shorts': 0, 'Features': 0}\n",
    "\n",
    "for minutes in master_df['Duration (Min)']:\n",
    "    if minutes < 3:\n",
    "        blocks['Free'] += 1\n",
    "    elif minutes >= 3 and minutes < 30:\n",
    "        blocks['Shorts'] += 1\n",
    "    else:\n",
    "        blocks['Features'] += 1\n",
    "\n",
    "print(f'Under 3 mins: {blocks[\"Free\"]} * 0 = $0')\n",
    "print(f'Over 3 mins and under 30 mins: {blocks[\"Shorts\"]} * $5 = ${(blocks[\"Shorts\"] - 20) * 5}')\n",
    "print(f'Over 30 mins: {blocks[\"Features\"]} (+ 6) * $25: ${((blocks[\"Features\"] - 10) + 6) * 25}')"
   ]
  },
  {
   "cell_type": "code",
   "execution_count": 25,
   "metadata": {},
   "outputs": [],
   "source": [
    "duration_df = master_df.loc[:, ('Submission Categories', 'Duration (Min)')]\n",
    "duration_per_category = duration_df.groupby('Submission Categories').sum()\n",
    "duration_per_category['Count'] = duration_df.groupby('Submission Categories').count()"
   ]
  },
  {
   "cell_type": "code",
   "execution_count": 26,
   "metadata": {},
   "outputs": [],
   "source": [
    "duration_per_category[f'30 Min Blocks'] = (round((duration_per_category.loc[:, 'Duration (Min)'] / 30), ndigits=2)).apply(lambda x: math.ceil(x))\n",
    "duration_per_category['60 Min Blocks'] = (round((duration_per_category.loc[:, 'Duration (Min)'] / 60), ndigits=2)).apply(lambda x: math.ceil(x))\n",
    "duration_per_category['90 Min Blocks'] = (round((duration_per_category.loc[:, 'Duration (Min)'] / 90), ndigits=2)).apply(lambda x: math.ceil(x))"
   ]
  },
  {
   "cell_type": "code",
   "execution_count": 27,
   "metadata": {},
   "outputs": [],
   "source": [
    "duration_per_category.loc['TOTALS'] = duration_per_category.sum()"
   ]
  },
  {
   "cell_type": "code",
   "execution_count": 28,
   "metadata": {},
   "outputs": [
    {
     "output_type": "execute_result",
     "data": {
      "text/plain": [
       "                                      Duration (Min)  Count  30 Min Blocks  \\\n",
       "Submission Categories                                                        \n",
       "Animation                                      50.53   11.0            2.0   \n",
       "Dramatic Shorts                               132.36   11.0            5.0   \n",
       "Environmental & Aquatic Films                  78.88    6.0            3.0   \n",
       "Feature Films                                 562.07    9.0           19.0   \n",
       "Funny Shorts                                   90.19    7.0            4.0   \n",
       "Horror/Sci-fi                                 121.50   11.0            5.0   \n",
       "Short Documentary                             116.79    7.0            4.0   \n",
       "Short films that make you feel good.           55.07    5.0            2.0   \n",
       "Youth Short Films                              31.10    5.0            2.0   \n",
       "TOTALS                                       1238.49   72.0           46.0   \n",
       "\n",
       "                                      60 Min Blocks  90 Min Blocks  \n",
       "Submission Categories                                               \n",
       "Animation                                       1.0            1.0  \n",
       "Dramatic Shorts                                 3.0            2.0  \n",
       "Environmental & Aquatic Films                   2.0            1.0  \n",
       "Feature Films                                  10.0            7.0  \n",
       "Funny Shorts                                    2.0            1.0  \n",
       "Horror/Sci-fi                                   3.0            2.0  \n",
       "Short Documentary                               2.0            2.0  \n",
       "Short films that make you feel good.            1.0            1.0  \n",
       "Youth Short Films                               1.0            1.0  \n",
       "TOTALS                                         25.0           18.0  "
      ],
      "text/html": "<div>\n<style scoped>\n    .dataframe tbody tr th:only-of-type {\n        vertical-align: middle;\n    }\n\n    .dataframe tbody tr th {\n        vertical-align: top;\n    }\n\n    .dataframe thead th {\n        text-align: right;\n    }\n</style>\n<table border=\"1\" class=\"dataframe\">\n  <thead>\n    <tr style=\"text-align: right;\">\n      <th></th>\n      <th>Duration (Min)</th>\n      <th>Count</th>\n      <th>30 Min Blocks</th>\n      <th>60 Min Blocks</th>\n      <th>90 Min Blocks</th>\n    </tr>\n    <tr>\n      <th>Submission Categories</th>\n      <th></th>\n      <th></th>\n      <th></th>\n      <th></th>\n      <th></th>\n    </tr>\n  </thead>\n  <tbody>\n    <tr>\n      <th>Animation</th>\n      <td>50.53</td>\n      <td>11.0</td>\n      <td>2.0</td>\n      <td>1.0</td>\n      <td>1.0</td>\n    </tr>\n    <tr>\n      <th>Dramatic Shorts</th>\n      <td>132.36</td>\n      <td>11.0</td>\n      <td>5.0</td>\n      <td>3.0</td>\n      <td>2.0</td>\n    </tr>\n    <tr>\n      <th>Environmental &amp; Aquatic Films</th>\n      <td>78.88</td>\n      <td>6.0</td>\n      <td>3.0</td>\n      <td>2.0</td>\n      <td>1.0</td>\n    </tr>\n    <tr>\n      <th>Feature Films</th>\n      <td>562.07</td>\n      <td>9.0</td>\n      <td>19.0</td>\n      <td>10.0</td>\n      <td>7.0</td>\n    </tr>\n    <tr>\n      <th>Funny Shorts</th>\n      <td>90.19</td>\n      <td>7.0</td>\n      <td>4.0</td>\n      <td>2.0</td>\n      <td>1.0</td>\n    </tr>\n    <tr>\n      <th>Horror/Sci-fi</th>\n      <td>121.50</td>\n      <td>11.0</td>\n      <td>5.0</td>\n      <td>3.0</td>\n      <td>2.0</td>\n    </tr>\n    <tr>\n      <th>Short Documentary</th>\n      <td>116.79</td>\n      <td>7.0</td>\n      <td>4.0</td>\n      <td>2.0</td>\n      <td>2.0</td>\n    </tr>\n    <tr>\n      <th>Short films that make you feel good.</th>\n      <td>55.07</td>\n      <td>5.0</td>\n      <td>2.0</td>\n      <td>1.0</td>\n      <td>1.0</td>\n    </tr>\n    <tr>\n      <th>Youth Short Films</th>\n      <td>31.10</td>\n      <td>5.0</td>\n      <td>2.0</td>\n      <td>1.0</td>\n      <td>1.0</td>\n    </tr>\n    <tr>\n      <th>TOTALS</th>\n      <td>1238.49</td>\n      <td>72.0</td>\n      <td>46.0</td>\n      <td>25.0</td>\n      <td>18.0</td>\n    </tr>\n  </tbody>\n</table>\n</div>"
     },
     "metadata": {},
     "execution_count": 28
    }
   ],
   "source": [
    "duration_per_category"
   ]
  },
  {
   "cell_type": "code",
   "execution_count": 30,
   "metadata": {},
   "outputs": [],
   "source": [
    "duration_per_category.to_excel('data/Cost-Analysis.xlsx')"
   ]
  },
  {
   "cell_type": "code",
   "execution_count": null,
   "metadata": {},
   "outputs": [],
   "source": []
  }
 ]
}